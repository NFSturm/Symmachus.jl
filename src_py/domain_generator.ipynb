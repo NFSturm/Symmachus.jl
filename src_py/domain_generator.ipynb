{
 "cells": [
  {
   "cell_type": "code",
   "execution_count": 1,
   "metadata": {},
   "outputs": [],
   "source": [
    "# Importing text processing utilities\n",
    "import re\n",
    "\n",
    "# Type Utilities\n",
    "\n",
    "from typing import *\n",
    "\n",
    "# Importing NLP libs\n",
    "import gensim\n",
    "import gensim.corpora as corpora\n",
    "from gensim.utils import simple_preprocess\n",
    "\n",
    "import spacy\n",
    "\n",
    "# Import keyword extraction library\n",
    "import yake"
   ]
  },
  {
   "cell_type": "code",
   "execution_count": null,
   "metadata": {},
   "outputs": [],
   "source": [
    "# Loading variables\n",
    "nlp = spacy.load('pt_core_news_lg')"
   ]
  },
  {
   "cell_type": "code",
   "execution_count": 2,
   "metadata": {},
   "outputs": [],
   "source": [
    "def read_stopwords(path: str) -> List[str]:\n",
    "    with open(path) as f:\n",
    "        lines = f.readlines()\n",
    "        stopwords = [line.strip() for line in lines]\n",
    "    return stopwords"
   ]
  },
  {
   "cell_type": "code",
   "execution_count": 3,
   "metadata": {},
   "outputs": [],
   "source": [
    "stopwords = read_stopwords(\"../stopwords/stopwords.txt\")"
   ]
  },
  {
   "cell_type": "code",
   "execution_count": null,
   "metadata": {},
   "outputs": [],
   "source": [
    "def remove_stopwords(sent: str, stopwords: List[str]) -> str:\n",
    "    \"\"\" Removes stopwords from a given sentence\"\"\"\n",
    "    tokens = re.split(r\"\\s+\", text)\n",
    "    tokens_without_stopwords = [token for token in tokens if token not in stopwords]\n",
    "    clean_sent = ' '.join(tokens_without_stopwords)\n",
    "    return clean_sent"
   ]
  },
  {
   "cell_type": "code",
   "execution_count": 33,
   "metadata": {},
   "outputs": [],
   "source": [
    "keywords_params = {\n",
    "    'lan': \"pt\",\n",
    "    'n': 3,\n",
    "    'dedupLim': 0.7,\n",
    "    'dedupFunc': 'seqm',\n",
    "    'windowsSize': 4,\n",
    "    'top': 10\n",
    "}"
   ]
  },
  {
   "cell_type": "code",
   "execution_count": 35,
   "metadata": {},
   "outputs": [],
   "source": [
    "def make_gensim_compatible_keyword(keyword: str) -> str:\n",
    "    return re.sub(\"\\s+\", \"_\", keyword)"
   ]
  },
  {
   "cell_type": "code",
   "execution_count": 21,
   "metadata": {},
   "outputs": [
    {
     "name": "stdout",
     "output_type": "stream",
     "text": [
      "('participação audição pública', 0.01655915082773619)\n",
      "('europeu luta cancro', 0.016559150827736194)\n",
      "('audição pública plano', 0.03339840940482845)\n",
      "('pública plano europeu', 0.03339840940482845)\n",
      "('plano europeu luta', 0.03339840940482845)\n",
      "('participação audição', 0.04940384002065631)\n",
      "('luta cancro', 0.04940384002065631)\n",
      "('audição pública', 0.09700399286574239)\n",
      "('pública plano', 0.09700399286574239)\n",
      "('plano europeu', 0.09700399286574239)\n",
      "('europeu luta', 0.09700399286574239)\n",
      "('participação', 0.15831692877998726)\n",
      "('cancro', 0.15831692877998726)\n",
      "('audição', 0.29736558256021506)\n",
      "('pública', 0.29736558256021506)\n",
      "('plano', 0.29736558256021506)\n",
      "('europeu', 0.29736558256021506)\n",
      "('luta', 0.29736558256021506)\n"
     ]
    }
   ],
   "source": [
    "def generate_keywords(sent: str, params: dict):\n",
    "    \"\"\"\n",
    "    Params:\n",
    "    ---------------\n",
    "    sent: str\n",
    "     A string containing a stopword-free sentence\n",
    "\n",
    "    params: dict\n",
    "     A dictionary containing parameters to customize the YAKE-algorithm\n",
    "    \"\"\"\n",
    "    text_lowercase = sent.lower()\n",
    "    \n",
    "    kw_extractor = yake.KeywordExtractor(**keywords_params)\n",
    "    keywords_w_weights = kw_extractor.extract_keywords(text_lowercase)\n",
    "    keywords = [keyword[1] for keyword in keywords_w_weights]\n",
    "\n",
    "    compat_keywords = [make_gensim_compatible_keyword(keyword) for keyword in keywords]\n",
    "\n",
    "    return compat_keywords\n"
   ]
  },
  {
   "cell_type": "code",
   "execution_count": null,
   "metadata": {},
   "outputs": [],
   "source": []
  }
 ],
 "metadata": {
  "interpreter": {
   "hash": "953b3b0c7ba96ccac902755d143e8a201b26a9bb74f8e5e63565c745784adbdb"
  },
  "kernelspec": {
   "display_name": "Python 3.9.6 64-bit ('discourse': conda)",
   "name": "python3"
  },
  "language_info": {
   "codemirror_mode": {
    "name": "ipython",
    "version": 3
   },
   "file_extension": ".py",
   "mimetype": "text/x-python",
   "name": "python",
   "nbconvert_exporter": "python",
   "pygments_lexer": "ipython3",
   "version": "3.9.6"
  },
  "orig_nbformat": 4
 },
 "nbformat": 4,
 "nbformat_minor": 2
}
